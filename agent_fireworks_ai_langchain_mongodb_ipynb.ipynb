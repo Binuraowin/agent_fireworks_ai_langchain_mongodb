{
  "nbformat": 4,
  "nbformat_minor": 0,
  "metadata": {
    "colab": {
      "private_outputs": true,
      "provenance": [],
      "authorship_tag": "ABX9TyNerhb9lONgvU6KiYa/17mi",
      "include_colab_link": true
    },
    "kernelspec": {
      "name": "python3",
      "display_name": "Python 3"
    },
    "language_info": {
      "name": "python"
    }
  },
  "cells": [
    {
      "cell_type": "markdown",
      "metadata": {
        "id": "view-in-github",
        "colab_type": "text"
      },
      "source": [
        "<a href=\"https://colab.research.google.com/github/Binuraowin/agent_fireworks_ai_langchain_mongodb/blob/main/agent_fireworks_ai_langchain_mongodb_ipynb.ipynb\" target=\"_parent\"><img src=\"https://colab.research.google.com/assets/colab-badge.svg\" alt=\"Open In Colab\"/></a>"
      ]
    },
    {
      "cell_type": "code",
      "execution_count": null,
      "metadata": {
        "id": "7tUpzpuVfIDF"
      },
      "outputs": [],
      "source": [
        "!pip install langchain langchain_openai langchain-fireworks langchain-mongodb arxiv pymupdf datasets pymongo"
      ]
    },
    {
      "cell_type": "code",
      "source": [
        "import os\n",
        "os.environ[\"OPENAI_API_KEY\"] = \"\"\n",
        "os.environ[\"FIREWORKS_API_KEY\"] = \"\"\n",
        "os.environ[\"MONGO_URI\"] = \"\"\n",
        "\n",
        "FIREWORKS_API_KEY = os.environ.get(\"FIREWORKS_API_KEY\")\n",
        "OPENAI_API_KEY = os.environ.get(\"OPENAI_API_KEY\")\n",
        "MONGO_URI = os.environ.get(\"MONGO_URI\")"
      ],
      "metadata": {
        "id": "s0N5O94YgHrp"
      },
      "execution_count": null,
      "outputs": []
    },
    {
      "cell_type": "code",
      "source": [
        "import pandas as pd\n",
        "from datasets import load_dataset\n",
        "\n",
        "data = load_dataset(\"MongoDB/subset_arxiv_papers_with_emebeddings\")\n",
        "dataset_df = pd.DataFrame(data[\"train\"])"
      ],
      "metadata": {
        "id": "k86AdIoTjuVd"
      },
      "execution_count": null,
      "outputs": []
    },
    {
      "cell_type": "markdown",
      "source": [
        "\n",
        "1.   Import the pandas library using the namespace pd for referencing the library and accessing functionalities.\n",
        "\n",
        "2.   Import the datasets library to use the load_dataset method, which enables access to datasets hosted on the Hugging Face platform by referencing their path.\n",
        "3. Assign the loaded dataset to the variable data.\n",
        "4. Convert the training subset of the dataset to a pandas DataFrame and assign the result to the variable dataset_df\n",
        "\n",
        "\n",
        "\n",
        "\n",
        "\n",
        "\n",
        "\n"
      ],
      "metadata": {
        "id": "Mcrx7s5P6OXx"
      }
    },
    {
      "cell_type": "code",
      "source": [
        "print(len(dataset_df))\n",
        "dataset_df.head()"
      ],
      "metadata": {
        "id": "ED95ou9xw3GS"
      },
      "execution_count": null,
      "outputs": []
    },
    {
      "cell_type": "code",
      "source": [
        "from pymongo import MongoClient\n",
        "\n",
        "# Initialize MongoDB python client\n",
        "client = MongoClient(MONGO_URI, appname=\"devrel.content.ai_agent_firechain.python\")\n",
        "\n",
        "DB_NAME = \"test\"\n",
        "COLLECTION_NAME = \"knowledge\"\n",
        "ATLAS_VECTOR_SEARCH_INDEX_NAME = \"vector_index\"\n",
        "collection = client[DB_NAME][COLLECTION_NAME]"
      ],
      "metadata": {
        "id": "I6P_r2VDw-F9"
      },
      "execution_count": null,
      "outputs": []
    },
    {
      "cell_type": "code",
      "source": [
        "# Delete any existing records in the collection\n",
        "collection.delete_many({})\n",
        "\n",
        "# Data Ingestion\n",
        "records = dataset_df.to_dict('records')\n",
        "collection.insert_many(records)\n",
        "\n",
        "print(\"Data ingestion into MongoDB completed\")"
      ],
      "metadata": {
        "id": "M08WvsvexWJW"
      },
      "execution_count": null,
      "outputs": []
    },
    {
      "cell_type": "code",
      "source": [
        "{\n",
        "  \"fields\": [\n",
        "    {\n",
        "      \"type\": \"vector\",\n",
        "      \"path\": \"embedding\",\n",
        "      \"numDimensions\": 256,\n",
        "      \"similarity\": \"cosine\"\n",
        "    }\n",
        "  ]\n",
        "}"
      ],
      "metadata": {
        "id": "YAWArcv06DpW"
      },
      "execution_count": null,
      "outputs": []
    },
    {
      "cell_type": "code",
      "source": [
        "from langchain_openai import OpenAIEmbeddings\n",
        "from langchain_mongodb import MongoDBAtlasVectorSearch\n",
        "\n",
        "embedding_model = OpenAIEmbeddings(model=\"text-embedding-3-small\", dimensions=256)\n",
        "\n",
        "# Vector Store Creation\n",
        "vector_store = MongoDBAtlasVectorSearch.from_connection_string(\n",
        "    connection_string=MONGO_URI,\n",
        "    namespace=DB_NAME + \".\" + COLLECTION_NAME,\n",
        "    embedding= embedding_model,\n",
        "    index_name=ATLAS_VECTOR_SEARCH_INDEX_NAME,\n",
        "    text_key=\"abstract\"\n",
        ")\n",
        "\n",
        "retriever = vector_store.as_retriever(search_type=\"similarity\", search_kwargs={\"k\": 5})"
      ],
      "metadata": {
        "id": "-xDKhi-yD-az"
      },
      "execution_count": null,
      "outputs": []
    },
    {
      "cell_type": "code",
      "source": [
        "from langchain_fireworks import ChatFireworks\n",
        "\n",
        "llm = ChatFireworks(\n",
        "    model=\"accounts/fireworks/models/firefunction-v1\",\n",
        "    max_tokens=256,)"
      ],
      "metadata": {
        "id": "pcmnMf5rMGEK"
      },
      "execution_count": null,
      "outputs": []
    },
    {
      "cell_type": "code",
      "source": [
        "!pip install langchain_community llmlingua"
      ],
      "metadata": {
        "id": "rbTXBM9pPVb0"
      },
      "execution_count": null,
      "outputs": []
    },
    {
      "cell_type": "code",
      "source": [
        "from langchain.agents import tool\n",
        "from langchain_community.document_loaders import ArxivLoader\n",
        "from langchain.tools.retriever import create_retriever_tool\n",
        "\n",
        "# Custom Tool Definiton\n",
        "@tool\n",
        "def get_metadata_information_from_arxiv(word: str) -> list:\n",
        "  \"\"\"\n",
        "  Fetches and returns metadata for a maximum of ten documents from arXiv matching the given query word.\n",
        "\n",
        "  Args:\n",
        "    word (str): The search query to find relevant documents on arXiv.\n",
        "\n",
        "  Returns:\n",
        "    list: Metadata about the documents matching the query.\n",
        "  \"\"\"\n",
        "  docs = ArxivLoader(query=word, load_max_docs=10).load()\n",
        "  # Extract just the metadata from each document\n",
        "  metadata_list = [doc.metadata for doc in docs]\n",
        "  return metadata_list\n",
        "\n",
        "\n",
        "@tool\n",
        "def get_information_from_arxiv(word: str) -> list:\n",
        "  \"\"\"\n",
        "  Fetches and returns metadata for a single research paper from arXiv matching the given query word, which is the ID of the paper, for example: 704.0001.\n",
        "\n",
        "  Args:\n",
        "    word (str): The search query to find the relevant paper on arXiv using the ID.\n",
        "\n",
        "  Returns:\n",
        "    list: Data about the paper matching the query.\n",
        "  \"\"\"\n",
        "  doc = ArxivLoader(query=word, load_max_docs=1).load()\n",
        "  return doc\n",
        "\n",
        "# If you created a retriever with compression capaitilies in the optional cell in an earlier cell, you can replace 'retriever' with 'compression_retriever'\n",
        "# Otherwise you can also create a compression procedure as a tool for the agent as shown in the `compress_prompt_using_llmlingua` tool definition function\n",
        "retriever_tool = create_retriever_tool(\n",
        "    retriever=retriever,\n",
        "    name=\"knowledge_base\",\n",
        "    description=\"This serves as the base knowledge source of the agent and contains some records of research papers from Arxiv. This tool is used as the first step for exploration and reseach efforts.\"\n",
        ")\n"
      ],
      "metadata": {
        "id": "AG2bWWxrMZob"
      },
      "execution_count": null,
      "outputs": []
    },
    {
      "cell_type": "code",
      "source": [
        "from langchain_community.document_compressors import LLMLinguaCompressor\n",
        "\n",
        "compressor = LLMLinguaCompressor(model_name=\"openai-community/gpt2\", device_map=\"cpu\")\n",
        "\n",
        "@tool\n",
        "def compress_prompt_using_llmlingua(prompt: str, compression_rate: float = 0.5) -> str:\n",
        "    \"\"\"\n",
        "    Compresses a long data or prompt using the LLMLinguaCompressor.\n",
        "\n",
        "    Args:\n",
        "        data (str): The data or prompt to be compressed.\n",
        "        compression_rate (float): The rate at which to compress the data (default is 0.5).\n",
        "\n",
        "    Returns:\n",
        "        str: The compressed data or prompt.\n",
        "    \"\"\"\n",
        "    compressed_data = compressor.compress_prompt(\n",
        "        prompt,\n",
        "        rate=compression_rate,\n",
        "        force_tokens=[\"!\", \".\", \"?\", \"\\n\"],\n",
        "        drop_consecutive=True\n",
        "    )\n",
        "    return compressed_data"
      ],
      "metadata": {
        "id": "o4XRt6kdQP6f"
      },
      "execution_count": null,
      "outputs": []
    },
    {
      "cell_type": "code",
      "source": [
        "tools = [retriever_tool, get_metadata_information_from_arxiv, get_information_from_arxiv, compress_prompt_using_llmlingua]\n"
      ],
      "metadata": {
        "id": "PnkrcHwHQWTN"
      },
      "execution_count": null,
      "outputs": []
    },
    {
      "cell_type": "code",
      "source": [
        "from langchain_core.prompts import ChatPromptTemplate, MessagesPlaceholder\n",
        "\n",
        "agent_purpose = \"\"\"\n",
        "You are a helpful research assistant equipped with various tools to assist with your tasks efficiently.\n",
        "You have access to conversational history stored in your inpout as chat_history.\n",
        "You are cost-effective and utilize the compress_prompt_using_llmlingua tool whenever you determine that a prompt or conversational history is too long.\n",
        "Below are instructions on when and how to use each tool in your operations.\n",
        "\n",
        "1. get_metadata_information_from_arxiv\n",
        "\n",
        "Purpose: To fetch and return metadata for up to ten documents from arXiv that match a given query word.\n",
        "When to Use: Use this tool when you need to gather metadata about multiple research papers related to a specific topic.\n",
        "Example: If you are asked to provide an overview of recent papers on \"machine learning,\" use this tool to fetch metadata for relevant documents.\n",
        "\n",
        "2. get_information_from_arxiv\n",
        "\n",
        "Purpose: To fetch and return metadata for a single research paper from arXiv using the paper's ID.\n",
        "When to Use: Use this tool when you need detailed information about a specific research paper identified by its arXiv ID.\n",
        "Example: If you are asked to retrieve detailed information about the paper with the ID \"704.0001,\" use this tool.\n",
        "\n",
        "3. retriever_tool\n",
        "\n",
        "Purpose: To serve as your base knowledge, containing records of research papers from arXiv.\n",
        "When to Use: Use this tool as the first step for exploration and research efforts when dealing with topics covered by the documents in the knowledge base.\n",
        "Example: When beginning research on a new topic that is well-documented in the arXiv repository, use this tool to access the relevant papers.\n",
        "\n",
        "4. compress_prompt_using_llmlingua\n",
        "\n",
        "Purpose: To compress long prompts or conversational histories using the LLMLinguaCompressor.\n",
        "When to Use: Use this tool whenever you determine that a prompt or conversational history is too long to be efficiently processed.\n",
        "Example: If you receive a very lengthy query or conversation context that exceeds the typical token limits, compress it using this tool before proceeding with further processing.\n",
        "\n",
        "\"\"\"\n",
        "\n",
        "prompt = ChatPromptTemplate.from_messages(\n",
        "    [\n",
        "        (\"system\", agent_purpose),\n",
        "        (\"human\", \"{input}\"),\n",
        "        MessagesPlaceholder(\"agent_scratchpad\")\n",
        "    ]\n",
        ")"
      ],
      "metadata": {
        "id": "1D4XNT-1QdMG"
      },
      "execution_count": null,
      "outputs": []
    },
    {
      "cell_type": "code",
      "source": [
        "from langchain_mongodb.chat_message_histories import MongoDBChatMessageHistory\n",
        "from langchain.memory import ConversationBufferMemory\n",
        "\n",
        "def get_session_history(session_id: str) -> MongoDBChatMessageHistory:\n",
        "        return MongoDBChatMessageHistory(MONGO_URI, session_id, database_name=DB_NAME, collection_name=\"history\")\n",
        "\n",
        "memory = ConversationBufferMemory(\n",
        "    memory_key=\"chat_history\",\n",
        "    chat_memory=get_session_history(\"latest_agent_session\")\n",
        ")"
      ],
      "metadata": {
        "id": "ekP7rlLPQfpK"
      },
      "execution_count": null,
      "outputs": []
    },
    {
      "cell_type": "code",
      "source": [
        "from langchain.agents import AgentExecutor, create_tool_calling_agent\n",
        "\n",
        "agent = create_tool_calling_agent(llm, tools, prompt)\n",
        "\n",
        "agent_executor = AgentExecutor(\n",
        "    agent=agent,\n",
        "    tools=tools,\n",
        "    verbose=True,\n",
        "    handle_parsing_errors=True,\n",
        "    memory=memory,\n",
        ")"
      ],
      "metadata": {
        "id": "PrPXATd_QhO7"
      },
      "execution_count": null,
      "outputs": []
    },
    {
      "cell_type": "code",
      "source": [
        "agent_executor.invoke({\"input\": \"Get me a list of research papers on the topic Prompt Compression in LLM Applications.\"})"
      ],
      "metadata": {
        "id": "cjH01Nm4Qj2C"
      },
      "execution_count": null,
      "outputs": []
    },
    {
      "cell_type": "code",
      "source": [
        "agent_executor.invoke({\"input\":\"What paper did we speak about from our chat history\"})"
      ],
      "metadata": {
        "id": "aHDI2cYXQl52"
      },
      "execution_count": null,
      "outputs": []
    },
    {
      "cell_type": "code",
      "source": [
        "agent_executor.invoke({\"input\": \"Get me a list of research papers on the topic Prompt Development in llm applications\"})"
      ],
      "metadata": {
        "id": "QTw4hhKoV2Qo"
      },
      "execution_count": null,
      "outputs": []
    }
  ]
}